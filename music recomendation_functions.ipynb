{
 "cells": [
  {
   "cell_type": "code",
   "execution_count": 1,
   "id": "b5c9b12f-8614-4645-87d1-b0c26dbafd63",
   "metadata": {},
   "outputs": [],
   "source": [
    "import numpy as np\n",
    "import pandas as pd\n",
    "import difflib\n",
    "from sklearn.feature_extraction.text import TfidfVectorizer\n",
    "from sklearn.metrics.pairwise import cosine_similarity\n",
    "from fuzzywuzzy import process"
   ]
  },
  {
   "cell_type": "code",
   "execution_count": 2,
   "id": "821299b1-fa92-4173-870f-6e79fc6a7143",
   "metadata": {},
   "outputs": [],
   "source": [
    "data=pd.read_csv(\"spotify_data_.csv\")\n",
    "data[['artistname', 'music']] = data['Songs & Artist'].str.split('-', n=1, expand=True)"
   ]
  },
  {
   "cell_type": "code",
   "execution_count": 3,
   "id": "c55b43c8-0e52-4d63-b0fa-1e6903fca4a5",
   "metadata": {},
   "outputs": [],
   "source": [
    "data.drop(\"Songs & Artist\",axis=1,inplace=True)\n",
    "cols=[ 'artistname', 'music','Streams', 'Daily']\n",
    "data=data[cols]\n",
    "data[\"combined_feature\"]=data[\"artistname\"]+\"\"+data[\"music\"]"
   ]
  },
  {
   "cell_type": "code",
   "execution_count": 5,
   "id": "1f19288a-f4a1-4ca1-aedd-7493250b252f",
   "metadata": {},
   "outputs": [],
   "source": [
    "vectoriser=TfidfVectorizer()\n",
    "vectoriser=vectoriser.fit_transform(data[\"combined_feature\"])"
   ]
  },
  {
   "cell_type": "markdown",
   "id": "9e23bcf3-5aff-466c-8a0f-03937033805d",
   "metadata": {},
   "source": [
    "# SEARCHING BY MUSIC"
   ]
  },
  {
   "cell_type": "code",
   "execution_count": 51,
   "id": "b85d7bd0-f909-4775-a0b1-7a6dcf219f32",
   "metadata": {},
   "outputs": [],
   "source": [
    "def music(name):\n",
    "    import numpy as np\n",
    "    import pandas as pd\n",
    "    import difflib\n",
    "    from sklearn.feature_extraction.text import TfidfVectorizer\n",
    "    from sklearn.metrics.pairwise import cosine_similarity\n",
    "    from fuzzywuzzy import process\n",
    "    data=pd.read_csv(\"spotify_data_.csv\")\n",
    "    data[['artistname', 'music']] = data['Songs & Artist'].str.split('-', n=1, expand=True)\n",
    "    data.drop(\"Songs & Artist\",axis=1,inplace=True)\n",
    "    cols=[ 'artistname', 'music','Streams', 'Daily']\n",
    "    data=data[cols]\n",
    "    data[\"combined_feature\"]=data[\"artistname\"]+\"\"+data[\"music\"]\n",
    "    vectoriser=TfidfVectorizer()\n",
    "    vectoriser=vectoriser.fit_transform(data[\"combined_feature\"])\n",
    "    list_of_music=list(data[\"music\"])\n",
    "    closea_matsh=difflib.get_close_matches(name,list_of_music)[0]\n",
    "    index=data[data[\"music\"]==closea_matsh].index.values[0]\n",
    "    similarity=cosine_similarity(vectoriser)\n",
    "    sorted_music=sorted(list(enumerate(similarity[index])),\n",
    "                    key=lambda x:x[1],reverse=True)[0:5]\n",
    "    n=0\n",
    "    for i in sorted_music:\n",
    "        idx=i[0]\n",
    "        suggest=data[data.index==idx][[\"artistname\",\"music\",\"Daily\"]].sort_values(\"Daily\")\n",
    "        print(f\"{n}:_{suggest.values}\")\n",
    "        n+=1"
   ]
  },
  {
   "cell_type": "markdown",
   "id": "36ef180b-d397-49ac-ae21-891f27ee4c61",
   "metadata": {},
   "source": [
    "# SEARCHING BY ARTIST"
   ]
  },
  {
   "cell_type": "code",
   "execution_count": 52,
   "id": "8c5f14e6-a878-49d2-a3b5-61b5da2ba4c4",
   "metadata": {},
   "outputs": [],
   "source": [
    "def artist(name):\n",
    "    import numpy as np\n",
    "    import pandas as pd\n",
    "    import difflib\n",
    "    from sklearn.feature_extraction.text import TfidfVectorizer\n",
    "    from sklearn.metrics.pairwise import cosine_similarity\n",
    "    from fuzzywuzzy import process\n",
    "    data=pd.read_csv(\"spotify_data_.csv\")\n",
    "    #_______________________________________________________________\n",
    "    data[['artistname', 'music']] = data['Songs & Artist'].str.split('-', n=1, expand=True)\n",
    "    data.drop(\"Songs & Artist\",axis=1,inplace=True)\n",
    "    #_______________________________________________________________\n",
    "    cols=[ 'artistname', 'music','Streams', 'Daily']\n",
    "    data=data[cols]\n",
    "    #_______________________________________________________________\n",
    "    data[\"combined_feature\"]=data[\"artistname\"]+\"\"+data[\"music\"]\n",
    "    #_______________________________________________________________\n",
    "    vectoriser=TfidfVectorizer()\n",
    "    vectoriser=vectoriser.fit_transform(data[\"combined_feature\"])\n",
    "    #_______________________________________________________________\n",
    "    list_of_music=list(data[\"artistname\"])\n",
    "    closea_matsh=difflib.get_close_matches(name,list_of_music)[0]\n",
    "    #_______________________________________________________________\n",
    "    index=data[data[\"artistname\"]==closea_matsh].index.values[0]\n",
    "    #_______________________________________________________________\n",
    "    similarity=cosine_similarity(vectoriser)\n",
    "    sorted_music=sorted(list(enumerate(similarity[index])),\n",
    "                    key=lambda x:x[1],reverse=True)[0:5]\n",
    "    #_______________________________________________________________\n",
    "    n=0\n",
    "    print(f\"Suggested music for {name}:\")\n",
    "    #_______________________________________________________________\n",
    "    for i in sorted_music:\n",
    "        idx=i[0]\n",
    "        #_______________________________________________________________\n",
    "        suggest=data[data.index==idx][[\"artistname\",\"music\",\"Daily\"]]\n",
    "        #_______________________________________________________________\n",
    "        n+=1\n",
    "        print(f\"{n}:_{suggest.values}\")       "
   ]
  },
  {
   "cell_type": "code",
   "execution_count": 48,
   "id": "3152364c-593b-4edc-9fb8-b8308fdaed0a",
   "metadata": {},
   "outputs": [
    {
     "name": "stdout",
     "output_type": "stream",
     "text": [
      "0:_[['Keyshia Cole ' ' Love' 626176.0]]\n",
      "1:_[['J. Cole ' ' G.O.M.D' 132382.0]]\n",
      "2:_[['J. Cole ' ' Work Out' 602594.0]]\n",
      "3:_[['J. Cole ' ' MIDDLE CHILD' 396528.0]]\n",
      "4:_[['J. Cole ' ' She Knows' 186677.0]]\n"
     ]
    }
   ],
   "source": [
    "music(\"Love\")"
   ]
  },
  {
   "cell_type": "code",
   "execution_count": 41,
   "id": "d13315dc-4f60-4ac5-a296-859e097be8f7",
   "metadata": {},
   "outputs": [
    {
     "name": "stdout",
     "output_type": "stream",
     "text": [
      "Suggested music for The Weekend:\n",
      "1:_[['The Weeknd ' ' Blinding Lights' 1619447.0]]\n",
      "2:_[['Kanye West ' ' All Of The Lights' 322977.0]]\n",
      "3:_[['The Weeknd ' ' In The Night' 150442.0]]\n",
      "4:_[['The Weeknd ' ' The Hills' 1071302.0]]\n",
      "5:_[['Harry Styles ' ' Lights Up' 87490.0]]\n"
     ]
    }
   ],
   "source": [
    "artist(\"The Weekend\")"
   ]
  },
  {
   "cell_type": "code",
   "execution_count": 69,
   "id": "d7fc8ccb-ef58-4c02-86e3-feb5abbb7ccc",
   "metadata": {},
   "outputs": [],
   "source": [
    "def artist(name,n_recome=5):\n",
    "    import numpy as np\n",
    "    import pandas as pd\n",
    "    import difflib\n",
    "    from sklearn.feature_extraction.text import TfidfVectorizer\n",
    "    from sklearn.metrics.pairwise import cosine_similarity\n",
    "    from fuzzywuzzy import process\n",
    "    data=pd.read_csv(\"spotify_data_.csv\")\n",
    "    #_______________________________________________________________\n",
    "    data[['artistname', 'music']] = data['Songs & Artist'].str.split('-', n=1, expand=True)\n",
    "    data.drop(\"Songs & Artist\",axis=1,inplace=True)\n",
    "    #_______________________________________________________________\n",
    "    cols=[ 'artistname', 'music','Streams', 'Daily']\n",
    "    data=data[cols]\n",
    "    #_______________________________________________________________\n",
    "    data[\"combined_feature\"]=data[\"artistname\"]+\"\"+data[\"music\"]\n",
    "    #_______________________________________________________________\n",
    "    vectoriser=TfidfVectorizer()\n",
    "    vectoriser=vectoriser.fit_transform(data[\"combined_feature\"])\n",
    "    #_______________________________________________________________\n",
    "    list_of_music=list(data[\"artistname\"])\n",
    "    closea_matsh, score = process.extractOne(name, list_of_music)\n",
    "    #_______________________________________________________________\n",
    "    index=data[data[\"artistname\"]==closea_matsh].index.values[0]\n",
    "    #_______________________________________________________________\n",
    "    similarity=cosine_similarity(vectoriser)\n",
    "    sorted_music=sorted(list(enumerate(similarity[index])),\n",
    "                    key=lambda x:x[1],reverse=True)[0:n_recome]\n",
    "    #_______________________________________________________________\n",
    "    n=0\n",
    "    print(f\"Suggested music for {name}:\")\n",
    "    #_______________________________________________________________\n",
    "    for i in sorted_music:\n",
    "        idx=i[0]\n",
    "        #_______________________________________________________________\n",
    "        suggest=data[data.index==idx][[\"artistname\",\"music\",\"Daily\"]]\n",
    "        #_______________________________________________________________\n",
    "        n+=1\n",
    "        print(f\"{n}:_{suggest.values}\")   \n",
    "    \n",
    "        \n",
    "    "
   ]
  },
  {
   "cell_type": "code",
   "execution_count": 59,
   "id": "b5cd808e-d8e1-4253-8ba4-67b5b540d85f",
   "metadata": {},
   "outputs": [],
   "source": [
    "def music(name,n_recome=5):\n",
    "    import numpy as np\n",
    "    import pandas as pd\n",
    "    import difflib\n",
    "    from sklearn.feature_extraction.text import TfidfVectorizer\n",
    "    from sklearn.metrics.pairwise import cosine_similarity\n",
    "    from fuzzywuzzy import process\n",
    "    data=pd.read_csv(\"spotify_data_.csv\")\n",
    "    data[['artistname', 'music']] = data['Songs & Artist'].str.split('-', n=1, expand=True)\n",
    "    data.drop(\"Songs & Artist\",axis=1,inplace=True)\n",
    "    cols=[ 'artistname', 'music','Streams', 'Daily']\n",
    "    data=data[cols]\n",
    "    data[\"combined_feature\"]=data[\"artistname\"]+\"\"+data[\"music\"]\n",
    "    vectoriser=TfidfVectorizer()\n",
    "    vectoriser=vectoriser.fit_transform(data[\"combined_feature\"])\n",
    "    list_of_music=list(data[\"music\"])\n",
    "    closea_matsh=difflib.get_close_matches(name,list_of_music)[0]\n",
    "    index=data[data[\"music\"]==closea_matsh].index.values[0]\n",
    "    similarity=cosine_similarity(vectoriser)\n",
    "    sorted_music=sorted(list(enumerate(similarity[index])),\n",
    "                    key=lambda x:x[1],reverse=True)[0:n_recome]\n",
    "    n=0\n",
    "    for i in sorted_music:\n",
    "        idx=i[0]\n",
    "        suggest=data[data.index==idx][[\"artistname\",\"music\",\"Daily\"]].sort_values(\"Daily\")\n",
    "        print(f\"{n}:_{suggest.values}\")\n",
    "        n+=1"
   ]
  },
  {
   "cell_type": "code",
   "execution_count": 71,
   "id": "0f87ceb7-9546-4ad0-b58a-f4cf22a602b6",
   "metadata": {},
   "outputs": [
    {
     "name": "stdout",
     "output_type": "stream",
     "text": [
      "Suggested music for Taylor Swift:\n",
      "1:_[['Taylor Swift ' ' Cruel Summer' 2271270.0]]\n",
      "2:_[['Taylor Swift ' ' the 1' 278262.0]]\n",
      "3:_[['Taylor Swift ' ' ME!' 182419.0]]\n",
      "4:_[['Taylor Swift ' ' ME!' 320741.0]]\n",
      "5:_[['Taylor Swift ' ' The Man' 459426.0]]\n",
      "6:_[['Taylor Swift ' ' Lover' 1035606.0]]\n",
      "7:_[['Taylor Swift ' ' Karma' 401398.0]]\n",
      "8:_[['Taylor Swift ' ' Love Story (Taylor’s Version)' 639887.0]]\n",
      "9:_[['Taylor Swift ' ' willow' 425931.0]]\n",
      "10:_[['Taylor Swift ' ' cardigan' 1072449.0]]\n"
     ]
    }
   ],
   "source": [
    "artist(\"Taylor Swift\",10)"
   ]
  },
  {
   "cell_type": "code",
   "execution_count": 73,
   "id": "484b53f0-59b4-48c3-843f-1a8c9965116e",
   "metadata": {},
   "outputs": [
    {
     "name": "stdout",
     "output_type": "stream",
     "text": [
      "0:_[['Taylor Swift ' ' Cruel Summer' 2271270.0]]\n",
      "1:_[['Taylor Swift ' ' the 1' 278262.0]]\n",
      "2:_[['Taylor Swift ' ' ME!' 182419.0]]\n",
      "3:_[['Taylor Swift ' ' ME!' 320741.0]]\n",
      "4:_[['Taylor Swift ' ' The Man' 459426.0]]\n",
      "5:_[['Taylor Swift ' ' Lover' 1035606.0]]\n",
      "6:_[['Taylor Swift ' ' Karma' 401398.0]]\n",
      "7:_[['Taylor Swift ' ' Love Story (Taylor’s Version)' 639887.0]]\n",
      "8:_[['Taylor Swift ' ' willow' 425931.0]]\n",
      "9:_[['Taylor Swift ' ' cardigan' 1072449.0]]\n"
     ]
    }
   ],
   "source": [
    "music(\"Cruel Summer\",10)"
   ]
  },
  {
   "cell_type": "code",
   "execution_count": null,
   "id": "016aebb9-41d5-46ad-a202-5d9989f05783",
   "metadata": {},
   "outputs": [],
   "source": []
  },
  {
   "cell_type": "code",
   "execution_count": null,
   "id": "47392572-c2e3-43d9-9454-2bebf9a1fa63",
   "metadata": {},
   "outputs": [],
   "source": []
  },
  {
   "cell_type": "code",
   "execution_count": null,
   "id": "7eea858b-984a-4f55-aa9d-6697c22582d6",
   "metadata": {},
   "outputs": [],
   "source": []
  }
 ],
 "metadata": {
  "kernelspec": {
   "display_name": "Python 3 (ipykernel)",
   "language": "python",
   "name": "python3"
  },
  "language_info": {
   "codemirror_mode": {
    "name": "ipython",
    "version": 3
   },
   "file_extension": ".py",
   "mimetype": "text/x-python",
   "name": "python",
   "nbconvert_exporter": "python",
   "pygments_lexer": "ipython3",
   "version": "3.11.7"
  }
 },
 "nbformat": 4,
 "nbformat_minor": 5
}
